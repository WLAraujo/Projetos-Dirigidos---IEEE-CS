{
  "nbformat": 4,
  "nbformat_minor": 0,
  "metadata": {
    "colab": {
      "name": "Projeto Dirigido - 1.ipynb",
      "provenance": [],
      "collapsed_sections": [
        "mPXi5EBA0VSZ",
        "AdPV1Cmc9Jdy",
        "o8O8t8cwLALf",
        "Hk_3gi8ZMfo6",
        "xsmBtZHVRFAc",
        "eTp50IZXtz7w",
        "tYV6x1VMwOL9",
        "nXdxXa5bxZTb",
        "FNySo0CA0dW8"
      ],
      "authorship_tag": "ABX9TyOYLjiSt9ihLfyNEn1tKFVo",
      "include_colab_link": true
    },
    "kernelspec": {
      "name": "python3",
      "display_name": "Python 3"
    },
    "language_info": {
      "name": "python"
    }
  },
  "cells": [
    {
      "cell_type": "markdown",
      "metadata": {
        "id": "view-in-github",
        "colab_type": "text"
      },
      "source": [
        "<a href=\"https://colab.research.google.com/github/WLAraujo/Projetos-Dirigidos---IEEE-CS/blob/main/Projeto_Dirigido_1.ipynb\" target=\"_parent\"><img src=\"https://colab.research.google.com/assets/colab-badge.svg\" alt=\"Open In Colab\"/></a>"
      ]
    },
    {
      "cell_type": "markdown",
      "metadata": {
        "id": "UBF4d-St3802"
      },
      "source": [
        "Notebook parcialmente inspirado no notebook disponibilizado em: https://www.kaggle.com/oyeronkealasisi/ecommerce-shipping-data-exploration/comments"
      ]
    },
    {
      "cell_type": "markdown",
      "metadata": {
        "id": "ePFaeyyxwM3B"
      },
      "source": [
        "# Importando bibliotecas e dados\n"
      ]
    },
    {
      "cell_type": "code",
      "metadata": {
        "id": "8Vh27JpKRuAb"
      },
      "source": [
        "# importando bibliotecas\n",
        "import pandas as pd\n",
        "import numpy as np\n",
        "import matplotlib.pyplot as plt\n",
        "%matplotlib inline\n",
        "import seaborn as sns"
      ],
      "execution_count": null,
      "outputs": []
    },
    {
      "cell_type": "code",
      "metadata": {
        "id": "xa00q1VhxGSi"
      },
      "source": [
        "# json token da API do Kaggle\n",
        "from google.colab import files\n",
        "files.upload()"
      ],
      "execution_count": null,
      "outputs": []
    },
    {
      "cell_type": "code",
      "metadata": {
        "id": "fckFfTHKygDu"
      },
      "source": [
        "# criando pasta kaggle para salvar o json\n",
        "!mkdir -p ~/.kaggle\n",
        "!cp kaggle.json ~/.kaggle/\n",
        "!chmod 600 ~/.kaggle/kaggle.json"
      ],
      "execution_count": null,
      "outputs": []
    },
    {
      "cell_type": "code",
      "metadata": {
        "colab": {
          "base_uri": "https://localhost:8080/"
        },
        "id": "67cCiX3ZyI0P",
        "outputId": "b9774fd4-3e71-494f-bbe7-9ccf60f62781"
      },
      "source": [
        "# baixando dataset específico\n",
        "!kaggle datasets download -d prachi13/customer-analytics"
      ],
      "execution_count": null,
      "outputs": [
        {
          "output_type": "stream",
          "text": [
            "Downloading customer-analytics.zip to /content\n",
            "\r  0% 0.00/121k [00:00<?, ?B/s]\n",
            "\r100% 121k/121k [00:00<00:00, 17.6MB/s]\n"
          ],
          "name": "stdout"
        }
      ]
    },
    {
      "cell_type": "code",
      "metadata": {
        "id": "SPhxRQCYyugW"
      },
      "source": [
        "# o arquivo foi baixado como .zip, vamos descompactar\n",
        "import zipfile\n",
        "zip_ref = zipfile.ZipFile('customer-analytics.zip', 'r')\n",
        "zip_ref.extractall('customer-analytics')\n",
        "zip_ref.close()"
      ],
      "execution_count": null,
      "outputs": []
    },
    {
      "cell_type": "code",
      "metadata": {
        "id": "run3HjPhzFA2"
      },
      "source": [
        "# tranformando no formato de dataframe\n",
        "analytics=pd.read_csv('/content/customer-analytics/Train.csv')"
      ],
      "execution_count": null,
      "outputs": []
    },
    {
      "cell_type": "markdown",
      "metadata": {
        "id": "mPXi5EBA0VSZ"
      },
      "source": [
        "# Visualização básica dos dados"
      ]
    },
    {
      "cell_type": "code",
      "metadata": {
        "colab": {
          "base_uri": "https://localhost:8080/"
        },
        "id": "iUz7EtieznCZ",
        "outputId": "c4d6ea17-aeb6-46c7-e9ae-e5b3c239cc55"
      },
      "source": [
        "# 5 primeiras linhas da tabela\n",
        "analytics.head()"
      ],
      "execution_count": null,
      "outputs": [
        {
          "output_type": "execute_result",
          "data": {
            "text/html": [
              "<div>\n",
              "<style scoped>\n",
              "    .dataframe tbody tr th:only-of-type {\n",
              "        vertical-align: middle;\n",
              "    }\n",
              "\n",
              "    .dataframe tbody tr th {\n",
              "        vertical-align: top;\n",
              "    }\n",
              "\n",
              "    .dataframe thead th {\n",
              "        text-align: right;\n",
              "    }\n",
              "</style>\n",
              "<table border=\"1\" class=\"dataframe\">\n",
              "  <thead>\n",
              "    <tr style=\"text-align: right;\">\n",
              "      <th></th>\n",
              "      <th>ID</th>\n",
              "      <th>Warehouse_block</th>\n",
              "      <th>Mode_of_Shipment</th>\n",
              "      <th>Customer_care_calls</th>\n",
              "      <th>Customer_rating</th>\n",
              "      <th>Cost_of_the_Product</th>\n",
              "      <th>Prior_purchases</th>\n",
              "      <th>Product_importance</th>\n",
              "      <th>Gender</th>\n",
              "      <th>Discount_offered</th>\n",
              "      <th>Weight_in_gms</th>\n",
              "      <th>Reached.on.Time_Y.N</th>\n",
              "    </tr>\n",
              "  </thead>\n",
              "  <tbody>\n",
              "    <tr>\n",
              "      <th>0</th>\n",
              "      <td>1</td>\n",
              "      <td>D</td>\n",
              "      <td>Flight</td>\n",
              "      <td>4</td>\n",
              "      <td>2</td>\n",
              "      <td>177</td>\n",
              "      <td>3</td>\n",
              "      <td>low</td>\n",
              "      <td>F</td>\n",
              "      <td>44</td>\n",
              "      <td>1233</td>\n",
              "      <td>1</td>\n",
              "    </tr>\n",
              "    <tr>\n",
              "      <th>1</th>\n",
              "      <td>2</td>\n",
              "      <td>F</td>\n",
              "      <td>Flight</td>\n",
              "      <td>4</td>\n",
              "      <td>5</td>\n",
              "      <td>216</td>\n",
              "      <td>2</td>\n",
              "      <td>low</td>\n",
              "      <td>M</td>\n",
              "      <td>59</td>\n",
              "      <td>3088</td>\n",
              "      <td>1</td>\n",
              "    </tr>\n",
              "    <tr>\n",
              "      <th>2</th>\n",
              "      <td>3</td>\n",
              "      <td>A</td>\n",
              "      <td>Flight</td>\n",
              "      <td>2</td>\n",
              "      <td>2</td>\n",
              "      <td>183</td>\n",
              "      <td>4</td>\n",
              "      <td>low</td>\n",
              "      <td>M</td>\n",
              "      <td>48</td>\n",
              "      <td>3374</td>\n",
              "      <td>1</td>\n",
              "    </tr>\n",
              "    <tr>\n",
              "      <th>3</th>\n",
              "      <td>4</td>\n",
              "      <td>B</td>\n",
              "      <td>Flight</td>\n",
              "      <td>3</td>\n",
              "      <td>3</td>\n",
              "      <td>176</td>\n",
              "      <td>4</td>\n",
              "      <td>medium</td>\n",
              "      <td>M</td>\n",
              "      <td>10</td>\n",
              "      <td>1177</td>\n",
              "      <td>1</td>\n",
              "    </tr>\n",
              "    <tr>\n",
              "      <th>4</th>\n",
              "      <td>5</td>\n",
              "      <td>C</td>\n",
              "      <td>Flight</td>\n",
              "      <td>2</td>\n",
              "      <td>2</td>\n",
              "      <td>184</td>\n",
              "      <td>3</td>\n",
              "      <td>medium</td>\n",
              "      <td>F</td>\n",
              "      <td>46</td>\n",
              "      <td>2484</td>\n",
              "      <td>1</td>\n",
              "    </tr>\n",
              "  </tbody>\n",
              "</table>\n",
              "</div>"
            ],
            "text/plain": [
              "   ID Warehouse_block  ... Weight_in_gms  Reached.on.Time_Y.N\n",
              "0   1               D  ...          1233                    1\n",
              "1   2               F  ...          3088                    1\n",
              "2   3               A  ...          3374                    1\n",
              "3   4               B  ...          1177                    1\n",
              "4   5               C  ...          2484                    1\n",
              "\n",
              "[5 rows x 12 columns]"
            ]
          },
          "metadata": {
            "tags": []
          },
          "execution_count": 49
        }
      ]
    },
    {
      "cell_type": "code",
      "metadata": {
        "colab": {
          "base_uri": "https://localhost:8080/"
        },
        "id": "taMEj-Wt1qU0",
        "outputId": "8fc49085-537c-48bf-f52e-90ca467e58f2"
      },
      "source": [
        "# dimensões da tabela\n",
        "analytics.shape"
      ],
      "execution_count": null,
      "outputs": [
        {
          "output_type": "execute_result",
          "data": {
            "text/plain": [
              "(10999, 12)"
            ]
          },
          "metadata": {
            "tags": []
          },
          "execution_count": 50
        }
      ]
    },
    {
      "cell_type": "code",
      "metadata": {
        "colab": {
          "base_uri": "https://localhost:8080/"
        },
        "id": "3-yXWTFi11Qc",
        "outputId": "f6891436-5ea7-4284-ff3d-f57d50151da4"
      },
      "source": [
        "# quantos valores únicos temos para cada atributo\n",
        "analytics.nunique()"
      ],
      "execution_count": null,
      "outputs": [
        {
          "output_type": "execute_result",
          "data": {
            "text/plain": [
              "ID                     10999\n",
              "Warehouse_block            5\n",
              "Mode_of_Shipment           3\n",
              "Customer_care_calls        6\n",
              "Customer_rating            5\n",
              "Cost_of_the_Product      215\n",
              "Prior_purchases            8\n",
              "Product_importance         3\n",
              "Gender                     2\n",
              "Discount_offered          65\n",
              "Weight_in_gms           4034\n",
              "Reached.on.Time_Y.N        2\n",
              "dtype: int64"
            ]
          },
          "metadata": {
            "tags": []
          },
          "execution_count": 51
        }
      ]
    },
    {
      "cell_type": "code",
      "metadata": {
        "colab": {
          "base_uri": "https://localhost:8080/"
        },
        "id": "_-u87Lcc2KY-",
        "outputId": "28107c79-423e-4115-f8f5-c032cbffb674"
      },
      "source": [
        "# informações sobre tipos de dados e valores nulos\n",
        "analytics.info()"
      ],
      "execution_count": null,
      "outputs": [
        {
          "output_type": "stream",
          "text": [
            "<class 'pandas.core.frame.DataFrame'>\n",
            "RangeIndex: 10999 entries, 0 to 10998\n",
            "Data columns (total 12 columns):\n",
            " #   Column               Non-Null Count  Dtype \n",
            "---  ------               --------------  ----- \n",
            " 0   ID                   10999 non-null  int64 \n",
            " 1   Warehouse_block      10999 non-null  object\n",
            " 2   Mode_of_Shipment     10999 non-null  object\n",
            " 3   Customer_care_calls  10999 non-null  int64 \n",
            " 4   Customer_rating      10999 non-null  int64 \n",
            " 5   Cost_of_the_Product  10999 non-null  int64 \n",
            " 6   Prior_purchases      10999 non-null  int64 \n",
            " 7   Product_importance   10999 non-null  object\n",
            " 8   Gender               10999 non-null  object\n",
            " 9   Discount_offered     10999 non-null  int64 \n",
            " 10  Weight_in_gms        10999 non-null  int64 \n",
            " 11  Reached.on.Time_Y.N  10999 non-null  int64 \n",
            "dtypes: int64(8), object(4)\n",
            "memory usage: 1.0+ MB\n"
          ],
          "name": "stdout"
        }
      ]
    },
    {
      "cell_type": "code",
      "metadata": {
        "colab": {
          "base_uri": "https://localhost:8080/"
        },
        "id": "fCWQEpBh2k3r",
        "outputId": "78c96b7a-f1ac-4698-aba4-740030e57e58"
      },
      "source": [
        "# faz um resumo de diversos atributos que estiverem no formato np.number\n",
        "analytics.describe(include=np.number)"
      ],
      "execution_count": null,
      "outputs": [
        {
          "output_type": "execute_result",
          "data": {
            "text/html": [
              "<div>\n",
              "<style scoped>\n",
              "    .dataframe tbody tr th:only-of-type {\n",
              "        vertical-align: middle;\n",
              "    }\n",
              "\n",
              "    .dataframe tbody tr th {\n",
              "        vertical-align: top;\n",
              "    }\n",
              "\n",
              "    .dataframe thead th {\n",
              "        text-align: right;\n",
              "    }\n",
              "</style>\n",
              "<table border=\"1\" class=\"dataframe\">\n",
              "  <thead>\n",
              "    <tr style=\"text-align: right;\">\n",
              "      <th></th>\n",
              "      <th>ID</th>\n",
              "      <th>Customer_care_calls</th>\n",
              "      <th>Customer_rating</th>\n",
              "      <th>Cost_of_the_Product</th>\n",
              "      <th>Prior_purchases</th>\n",
              "      <th>Discount_offered</th>\n",
              "      <th>Weight_in_gms</th>\n",
              "      <th>Reached.on.Time_Y.N</th>\n",
              "    </tr>\n",
              "  </thead>\n",
              "  <tbody>\n",
              "    <tr>\n",
              "      <th>count</th>\n",
              "      <td>10999.00000</td>\n",
              "      <td>10999.000000</td>\n",
              "      <td>10999.000000</td>\n",
              "      <td>10999.000000</td>\n",
              "      <td>10999.000000</td>\n",
              "      <td>10999.000000</td>\n",
              "      <td>10999.000000</td>\n",
              "      <td>10999.000000</td>\n",
              "    </tr>\n",
              "    <tr>\n",
              "      <th>mean</th>\n",
              "      <td>5500.00000</td>\n",
              "      <td>4.054459</td>\n",
              "      <td>2.990545</td>\n",
              "      <td>210.196836</td>\n",
              "      <td>3.567597</td>\n",
              "      <td>13.373216</td>\n",
              "      <td>3634.016729</td>\n",
              "      <td>0.596691</td>\n",
              "    </tr>\n",
              "    <tr>\n",
              "      <th>std</th>\n",
              "      <td>3175.28214</td>\n",
              "      <td>1.141490</td>\n",
              "      <td>1.413603</td>\n",
              "      <td>48.063272</td>\n",
              "      <td>1.522860</td>\n",
              "      <td>16.205527</td>\n",
              "      <td>1635.377251</td>\n",
              "      <td>0.490584</td>\n",
              "    </tr>\n",
              "    <tr>\n",
              "      <th>min</th>\n",
              "      <td>1.00000</td>\n",
              "      <td>2.000000</td>\n",
              "      <td>1.000000</td>\n",
              "      <td>96.000000</td>\n",
              "      <td>2.000000</td>\n",
              "      <td>1.000000</td>\n",
              "      <td>1001.000000</td>\n",
              "      <td>0.000000</td>\n",
              "    </tr>\n",
              "    <tr>\n",
              "      <th>25%</th>\n",
              "      <td>2750.50000</td>\n",
              "      <td>3.000000</td>\n",
              "      <td>2.000000</td>\n",
              "      <td>169.000000</td>\n",
              "      <td>3.000000</td>\n",
              "      <td>4.000000</td>\n",
              "      <td>1839.500000</td>\n",
              "      <td>0.000000</td>\n",
              "    </tr>\n",
              "    <tr>\n",
              "      <th>50%</th>\n",
              "      <td>5500.00000</td>\n",
              "      <td>4.000000</td>\n",
              "      <td>3.000000</td>\n",
              "      <td>214.000000</td>\n",
              "      <td>3.000000</td>\n",
              "      <td>7.000000</td>\n",
              "      <td>4149.000000</td>\n",
              "      <td>1.000000</td>\n",
              "    </tr>\n",
              "    <tr>\n",
              "      <th>75%</th>\n",
              "      <td>8249.50000</td>\n",
              "      <td>5.000000</td>\n",
              "      <td>4.000000</td>\n",
              "      <td>251.000000</td>\n",
              "      <td>4.000000</td>\n",
              "      <td>10.000000</td>\n",
              "      <td>5050.000000</td>\n",
              "      <td>1.000000</td>\n",
              "    </tr>\n",
              "    <tr>\n",
              "      <th>max</th>\n",
              "      <td>10999.00000</td>\n",
              "      <td>7.000000</td>\n",
              "      <td>5.000000</td>\n",
              "      <td>310.000000</td>\n",
              "      <td>10.000000</td>\n",
              "      <td>65.000000</td>\n",
              "      <td>7846.000000</td>\n",
              "      <td>1.000000</td>\n",
              "    </tr>\n",
              "  </tbody>\n",
              "</table>\n",
              "</div>"
            ],
            "text/plain": [
              "                ID  Customer_care_calls  ...  Weight_in_gms  Reached.on.Time_Y.N\n",
              "count  10999.00000         10999.000000  ...   10999.000000         10999.000000\n",
              "mean    5500.00000             4.054459  ...    3634.016729             0.596691\n",
              "std     3175.28214             1.141490  ...    1635.377251             0.490584\n",
              "min        1.00000             2.000000  ...    1001.000000             0.000000\n",
              "25%     2750.50000             3.000000  ...    1839.500000             0.000000\n",
              "50%     5500.00000             4.000000  ...    4149.000000             1.000000\n",
              "75%     8249.50000             5.000000  ...    5050.000000             1.000000\n",
              "max    10999.00000             7.000000  ...    7846.000000             1.000000\n",
              "\n",
              "[8 rows x 8 columns]"
            ]
          },
          "metadata": {
            "tags": []
          },
          "execution_count": 53
        }
      ]
    },
    {
      "cell_type": "code",
      "metadata": {
        "colab": {
          "base_uri": "https://localhost:8080/"
        },
        "id": "6_bt82nR3kZM",
        "outputId": "661d4574-78f2-4541-fdce-d04117e69566"
      },
      "source": [
        "# faz um resumo de diversos atributos que estiverem no formato np.object\n",
        "analytics.describe(include=np.object)"
      ],
      "execution_count": null,
      "outputs": [
        {
          "output_type": "execute_result",
          "data": {
            "text/html": [
              "<div>\n",
              "<style scoped>\n",
              "    .dataframe tbody tr th:only-of-type {\n",
              "        vertical-align: middle;\n",
              "    }\n",
              "\n",
              "    .dataframe tbody tr th {\n",
              "        vertical-align: top;\n",
              "    }\n",
              "\n",
              "    .dataframe thead th {\n",
              "        text-align: right;\n",
              "    }\n",
              "</style>\n",
              "<table border=\"1\" class=\"dataframe\">\n",
              "  <thead>\n",
              "    <tr style=\"text-align: right;\">\n",
              "      <th></th>\n",
              "      <th>Warehouse_block</th>\n",
              "      <th>Mode_of_Shipment</th>\n",
              "      <th>Product_importance</th>\n",
              "      <th>Gender</th>\n",
              "    </tr>\n",
              "  </thead>\n",
              "  <tbody>\n",
              "    <tr>\n",
              "      <th>count</th>\n",
              "      <td>10999</td>\n",
              "      <td>10999</td>\n",
              "      <td>10999</td>\n",
              "      <td>10999</td>\n",
              "    </tr>\n",
              "    <tr>\n",
              "      <th>unique</th>\n",
              "      <td>5</td>\n",
              "      <td>3</td>\n",
              "      <td>3</td>\n",
              "      <td>2</td>\n",
              "    </tr>\n",
              "    <tr>\n",
              "      <th>top</th>\n",
              "      <td>F</td>\n",
              "      <td>Ship</td>\n",
              "      <td>low</td>\n",
              "      <td>F</td>\n",
              "    </tr>\n",
              "    <tr>\n",
              "      <th>freq</th>\n",
              "      <td>3666</td>\n",
              "      <td>7462</td>\n",
              "      <td>5297</td>\n",
              "      <td>5545</td>\n",
              "    </tr>\n",
              "  </tbody>\n",
              "</table>\n",
              "</div>"
            ],
            "text/plain": [
              "       Warehouse_block Mode_of_Shipment Product_importance Gender\n",
              "count            10999            10999              10999  10999\n",
              "unique               5                3                  3      2\n",
              "top                  F             Ship                low      F\n",
              "freq              3666             7462               5297   5545"
            ]
          },
          "metadata": {
            "tags": []
          },
          "execution_count": 54
        }
      ]
    },
    {
      "cell_type": "markdown",
      "metadata": {
        "id": "EDXuV1ZU7i50"
      },
      "source": [
        "Fatos interessantes e possíveis de serem vistos com as informações acima:\n",
        "\n",
        "*   Cerca de 68% dos envios é feito através navios\n",
        "*   Cerca de 48% dos produtos tem importância baixa\n",
        "*   Cerca de 50% dos clientes são mulheres, então cerca de 50% dos clientes são homens "
      ]
    },
    {
      "cell_type": "code",
      "metadata": {
        "colab": {
          "base_uri": "https://localhost:8080/"
        },
        "id": "TD7dFPRK373k",
        "outputId": "a8c815c1-336f-4248-af37-a9db24a1cbc4"
      },
      "source": [
        "# vamos ver se existem dados nulos em algum dos atributos\n",
        "analytics.isnull().any()"
      ],
      "execution_count": null,
      "outputs": [
        {
          "output_type": "execute_result",
          "data": {
            "text/plain": [
              "ID                     False\n",
              "Warehouse_block        False\n",
              "Mode_of_Shipment       False\n",
              "Customer_care_calls    False\n",
              "Customer_rating        False\n",
              "Cost_of_the_Product    False\n",
              "Prior_purchases        False\n",
              "Product_importance     False\n",
              "Gender                 False\n",
              "Discount_offered       False\n",
              "Weight_in_gms          False\n",
              "Reached.on.Time_Y.N    False\n",
              "dtype: bool"
            ]
          },
          "metadata": {
            "tags": []
          },
          "execution_count": 55
        }
      ]
    },
    {
      "cell_type": "markdown",
      "metadata": {
        "id": "AdPV1Cmc9Jdy"
      },
      "source": [
        "# Análise exploratória relacionada a gênero"
      ]
    },
    {
      "cell_type": "code",
      "metadata": {
        "colab": {
          "base_uri": "https://localhost:8080/"
        },
        "id": "UxLv9n1W82-_",
        "outputId": "7c2133f3-76b8-4ca5-86fa-e789d2b49e15"
      },
      "source": [
        "# vamos criar um novo dataframe que nos indique quantas linhas temos para cada gênero\n",
        "genero = analytics['Gender'].value_counts() \n",
        "genero"
      ],
      "execution_count": null,
      "outputs": [
        {
          "output_type": "execute_result",
          "data": {
            "text/plain": [
              "F    5545\n",
              "M    5454\n",
              "Name: Gender, dtype: int64"
            ]
          },
          "metadata": {
            "tags": []
          },
          "execution_count": 56
        }
      ]
    },
    {
      "cell_type": "code",
      "metadata": {
        "colab": {
          "base_uri": "https://localhost:8080/"
        },
        "id": "uJD0sCLs9u_O",
        "outputId": "46445028-d548-485d-c8a7-e88c11930a62"
      },
      "source": [
        "# vamos plotar um gráfico de pizza que dê a distribuição por gênero\n",
        "plt.figure(figsize=(7,5))\n",
        "genero.plot.pie(fontsize=16, labeldistance = 1.2, radius = 1.5, autopct='%.2f')\n",
        "plt.show()"
      ],
      "execution_count": null,
      "outputs": [
        {
          "output_type": "display_data",
          "data": {
            "image/png": "[encoded data removed]",
            "text/plain": [
              "<Figure size 504x360 with 1 Axes>"
            ]
          },
          "metadata": {
            "tags": []
          }
        }
      ]
    },
    {
      "cell_type": "markdown",
      "metadata": {
        "id": "cqgjJEA8FRUR"
      },
      "source": [
        "Vamos ver como a variável que indica gênero se relaciona a outras variáveis"
      ]
    },
    {
      "cell_type": "code",
      "metadata": {
        "colab": {
          "base_uri": "https://localhost:8080/"
        },
        "id": "PmgZSOpHD3r9",
        "outputId": "6c01dc36-3d42-4120-a33b-0371d473fa43"
      },
      "source": [
        "print(analytics[[\"Gender\", \"Customer_care_calls\"]].\n",
        "      groupby(['Gender'], as_index= False).mean().sort_values\n",
        "      (by='Customer_care_calls', ascending = False))"
      ],
      "execution_count": null,
      "outputs": [
        {
          "output_type": "stream",
          "text": [
            "  Gender  Customer_care_calls\n",
            "1      M             4.057389\n",
            "0      F             4.051578\n"
          ],
          "name": "stdout"
        }
      ]
    },
    {
      "cell_type": "markdown",
      "metadata": {
        "id": "g2WarEM9Ejuz"
      },
      "source": [
        "A tabela acima nos faz ver que existe pouca diferença, em média, da quantidade de ligações que homens e mulheres fazer para consultar a situação do transporte"
      ]
    },
    {
      "cell_type": "code",
      "metadata": {
        "colab": {
          "base_uri": "https://localhost:8080/"
        },
        "id": "bnKrSr9DEyvi",
        "outputId": "0e116e9c-cf0d-4bb5-90dd-08f9ed7bab0c"
      },
      "source": [
        "print(analytics[[\"Gender\", \"Customer_rating\"]].\n",
        "      groupby(['Gender'],as_index= False).mean().sort_values\n",
        "      (by='Customer_rating', ascending = False))"
      ],
      "execution_count": null,
      "outputs": [
        {
          "output_type": "stream",
          "text": [
            "  Gender  Customer_rating\n",
            "1      M         2.994499\n",
            "0      F         2.986655\n"
          ],
          "name": "stdout"
        }
      ]
    },
    {
      "cell_type": "markdown",
      "metadata": {
        "id": "q_kBhVg6FCfB"
      },
      "source": [
        "A tabela acima nos faz ver que praticamente não existe viés de avaliação dos produtos relacionado à gênero"
      ]
    },
    {
      "cell_type": "code",
      "metadata": {
        "colab": {
          "base_uri": "https://localhost:8080/"
        },
        "id": "7x-jpV1mFOmg",
        "outputId": "bec6b787-75e8-4408-96aa-060d9e26432d"
      },
      "source": [
        "print(analytics[[\"Gender\", \"Prior_purchases\"]].\n",
        "      groupby(['Gender'],as_index= False).mean().sort_values\n",
        "      (by='Prior_purchases', ascending = False))"
      ],
      "execution_count": null,
      "outputs": [
        {
          "output_type": "stream",
          "text": [
            "  Gender  Prior_purchases\n",
            "0      F         3.581785\n",
            "1      M         3.553172\n"
          ],
          "name": "stdout"
        }
      ]
    },
    {
      "cell_type": "markdown",
      "metadata": {
        "id": "eBnyZYuYJa53"
      },
      "source": [
        "A tabela acima nos faz ver que praticamente não parece haver viés de gênero na quantidade de comprar antecipadas de produtos"
      ]
    },
    {
      "cell_type": "code",
      "metadata": {
        "colab": {
          "base_uri": "https://localhost:8080/"
        },
        "id": "45kVOdOmJj3G",
        "outputId": "a6f1f71f-9f27-42dd-9aa2-8a48a167afff"
      },
      "source": [
        "print(analytics[[\"Gender\", \"Reached.on.Time_Y.N\"]].\n",
        "      groupby(['Gender'],as_index= False).mean().sort_values\n",
        "      (by='Reached.on.Time_Y.N', ascending = False))"
      ],
      "execution_count": null,
      "outputs": [
        {
          "output_type": "stream",
          "text": [
            "  Gender  Reached.on.Time_Y.N\n",
            "1      M             0.599010\n",
            "0      F             0.594409\n"
          ],
          "name": "stdout"
        }
      ]
    },
    {
      "cell_type": "markdown",
      "metadata": {
        "id": "hvoHbdxnJwrF"
      },
      "source": [
        "A tabela acima nos indica que não aparenta haver viés de gênero relacionado a entregas no prazo"
      ]
    },
    {
      "cell_type": "markdown",
      "metadata": {
        "id": "s8cM4-ExKhRE"
      },
      "source": [
        "Vamos plotar diversos gráficos que comparem as distribuições de variáveis separadas por gênero"
      ]
    },
    {
      "cell_type": "code",
      "metadata": {
        "colab": {
          "base_uri": "https://localhost:8080/"
        },
        "id": "mZUvCcaXKE0W",
        "outputId": "08cb0c83-5a47-4eee-ef2f-c719fa41c838"
      },
      "source": [
        "# vamos definir um grid cinza\n",
        "sns.set_style('darkgrid')\n",
        "# vamos definir uma matriz de gráficos 2x2, onde cada figura vai ter tamanho 10x10\n",
        "f,axes= plt.subplots(2,2, figsize=(10,10))\n",
        "# abaixo definimos os 4 gráficos das variáveis que analismos acima\n",
        "sns.countplot(x='Customer_care_calls',hue='Gender',data=analytics,palette='RdBu_r', ax=axes[0,0])\n",
        "sns.countplot(x='Customer_rating',hue='Gender',data=analytics,palette='RdBu_r', ax=axes[0,1])\n",
        "sns.countplot(x='Prior_purchases',hue='Gender',data=analytics,palette='RdBu_r', ax=axes[1,0])\n",
        "sns.countplot(x='Reached.on.Time_Y.N',hue='Gender',data=analytics,palette='RdBu_r', ax=axes[1,1])"
      ],
      "execution_count": null,
      "outputs": [
        {
          "output_type": "execute_result",
          "data": {
            "text/plain": [
              "<matplotlib.axes._subplots.AxesSubplot at 0x7ff9ba25b650>"
            ]
          },
          "metadata": {
            "tags": []
          },
          "execution_count": 62
        },
        {
          "output_type": "display_data",
          "data": {
            "image/png": "[encoded data removed]",
            "text/plain": [
              "<Figure size 720x720 with 4 Axes>"
            ]
          },
          "metadata": {
            "tags": []
          }
        }
      ]
    },
    {
      "cell_type": "markdown",
      "metadata": {
        "id": "o8O8t8cwLALf"
      },
      "source": [
        "# Análise exploratória segundo os galpões da compania\n"
      ]
    },
    {
      "cell_type": "code",
      "metadata": {
        "colab": {
          "base_uri": "https://localhost:8080/"
        },
        "id": "Vwu_p7XdK8oH",
        "outputId": "2fd2399a-5706-4eb7-d2e6-cd9f3c748914"
      },
      "source": [
        "# vendo quantidade de pedidos em cada galpão\n",
        "galpao = analytics['Warehouse_block'].value_counts()\n",
        "galpao"
      ],
      "execution_count": null,
      "outputs": [
        {
          "output_type": "execute_result",
          "data": {
            "text/plain": [
              "F    3666\n",
              "D    1834\n",
              "C    1833\n",
              "B    1833\n",
              "A    1833\n",
              "Name: Warehouse_block, dtype: int64"
            ]
          },
          "metadata": {
            "tags": []
          },
          "execution_count": 63
        }
      ]
    },
    {
      "cell_type": "code",
      "metadata": {
        "colab": {
          "base_uri": "https://localhost:8080/"
        },
        "id": "BWWNUQ98LPcU",
        "outputId": "e6c21b41-9e8f-4fcc-b844-1925db422a4f"
      },
      "source": [
        "plt.figure(figsize=(7, 5))\n",
        "galpao.plot.pie(fontsize=16, autopct='%.0f%%', labeldistance=1.2, radius=1.5)\n",
        "plt.show()"
      ],
      "execution_count": null,
      "outputs": [
        {
          "output_type": "display_data",
          "data": {
            "image/png": "[encoded data removed]",
            "text/plain": [
              "<Figure size 504x360 with 1 Axes>"
            ]
          },
          "metadata": {
            "tags": []
          }
        }
      ]
    },
    {
      "cell_type": "markdown",
      "metadata": {
        "id": "Hk_3gi8ZMfo6"
      },
      "source": [
        "# Análise exploratória segundo modo de envio\n",
        "\n"
      ]
    },
    {
      "cell_type": "code",
      "metadata": {
        "colab": {
          "base_uri": "https://localhost:8080/"
        },
        "id": "iMM-7fPWMmca",
        "outputId": "258ac019-7d41-4601-da96-5046868d5611"
      },
      "source": [
        "modoEnvio = analytics['Mode_of_Shipment'].value_counts()\n",
        "modoEnvio"
      ],
      "execution_count": null,
      "outputs": [
        {
          "output_type": "execute_result",
          "data": {
            "text/plain": [
              "Ship      7462\n",
              "Flight    1777\n",
              "Road      1760\n",
              "Name: Mode_of_Shipment, dtype: int64"
            ]
          },
          "metadata": {
            "tags": []
          },
          "execution_count": 65
        }
      ]
    },
    {
      "cell_type": "code",
      "metadata": {
        "colab": {
          "base_uri": "https://localhost:8080/"
        },
        "id": "F7DXEgzhQtnc",
        "outputId": "6dc65a44-5231-47e6-bb39-587d983425c8"
      },
      "source": [
        "plt.figure(figsize=(7, 5))\n",
        "modoEnvio.plot.pie(fontsize=16, autopct='%.1f%%', labeldistance=1.2, radius=1.5)\n",
        "plt.show()"
      ],
      "execution_count": null,
      "outputs": [
        {
          "output_type": "display_data",
          "data": {
            "image/png": "[encoded data removed]",
            "text/plain": [
              "<Figure size 504x360 with 1 Axes>"
            ]
          },
          "metadata": {
            "tags": []
          }
        }
      ]
    },
    {
      "cell_type": "markdown",
      "metadata": {
        "id": "xsmBtZHVRFAc"
      },
      "source": [
        "# Análise exploratória sobre ligações para verificação de status"
      ]
    },
    {
      "cell_type": "code",
      "metadata": {
        "colab": {
          "base_uri": "https://localhost:8080/"
        },
        "id": "z5_ATCFGRg0u",
        "outputId": "5758cb4a-c6e9-42ec-a6bf-71803c880bf3"
      },
      "source": [
        "ligacoes = analytics['Customer_care_calls'].value_counts()\n",
        "ligacoes"
      ],
      "execution_count": null,
      "outputs": [
        {
          "output_type": "execute_result",
          "data": {
            "text/plain": [
              "4    3557\n",
              "3    3217\n",
              "5    2328\n",
              "6    1013\n",
              "2     638\n",
              "7     246\n",
              "Name: Customer_care_calls, dtype: int64"
            ]
          },
          "metadata": {
            "tags": []
          },
          "execution_count": 67
        }
      ]
    },
    {
      "cell_type": "code",
      "metadata": {
        "id": "38nSPFXnSlvg",
        "colab": {
          "base_uri": "https://localhost:8080/"
        },
        "outputId": "b4b97882-034e-46a7-9c0e-b8c5f001c72e"
      },
      "source": [
        "# vamos plotar a distribuição de ligações num gráfico de barras\n",
        "sns.barplot(x=ligacoes.index, y=ligacoes.values, alpha=0.8)\n",
        "plt.title('Ligações por consumidor', fontsize=18, pad=10)\n",
        "plt.ylabel('Número de clientes', fontsize=14)\n",
        "plt.xlabel('Número de ligações', fontsize=14)\n",
        "plt.xticks(fontsize=14)\n",
        "plt.yticks(fontsize=10)\n",
        "plt.figure(figsize=(10, 7))\n",
        "plt.show()"
      ],
      "execution_count": null,
      "outputs": [
        {
          "output_type": "display_data",
          "data": {
            "image/png": "[encoded data removed]",
            "text/plain": [
              "<Figure size 432x288 with 1 Axes>"
            ]
          },
          "metadata": {
            "tags": []
          }
        },
        {
          "output_type": "display_data",
          "data": {
            "text/plain": [
              "<Figure size 720x504 with 0 Axes>"
            ]
          },
          "metadata": {
            "tags": []
          }
        }
      ]
    },
    {
      "cell_type": "markdown",
      "metadata": {
        "id": "eTp50IZXtz7w"
      },
      "source": [
        "# Análise exploratória por avaliação"
      ]
    },
    {
      "cell_type": "code",
      "metadata": {
        "colab": {
          "base_uri": "https://localhost:8080/"
        },
        "id": "xi_FO8tSty0E",
        "outputId": "dc256234-b5d7-442a-cba5-725d62b64d87"
      },
      "source": [
        "avaliacao = analytics['Customer_rating'].value_counts()\n",
        "avaliacao "
      ],
      "execution_count": null,
      "outputs": [
        {
          "output_type": "execute_result",
          "data": {
            "text/plain": [
              "3    2239\n",
              "1    2235\n",
              "4    2189\n",
              "5    2171\n",
              "2    2165\n",
              "Name: Customer_rating, dtype: int64"
            ]
          },
          "metadata": {
            "tags": []
          },
          "execution_count": 69
        }
      ]
    },
    {
      "cell_type": "markdown",
      "metadata": {
        "id": "gfkxY_qjuowF"
      },
      "source": [
        "É possível ver que existe uma distribuição muito uniforme das avaliações\n"
      ]
    },
    {
      "cell_type": "code",
      "metadata": {
        "colab": {
          "base_uri": "https://localhost:8080/"
        },
        "id": "ZNmuwAuBumrt",
        "outputId": "a85a5b34-bdeb-40ea-cacd-57569d880447"
      },
      "source": [
        "# vamos plotar a distribuição de avaliações num gráfico de barras\n",
        "sns.barplot(x=avaliacao.index, y=avaliacao.values, alpha=0.8)\n",
        "plt.title('Notas x Consumidor', fontsize=18, pad=10)\n",
        "plt.ylabel('Número de clientes', fontsize=14)\n",
        "plt.xlabel('Notas', fontsize=14)\n",
        "plt.xticks(fontsize=14)\n",
        "plt.yticks(fontsize=10)\n",
        "plt.figure(figsize=(10, 7))\n",
        "plt.show()"
      ],
      "execution_count": null,
      "outputs": [
        {
          "output_type": "display_data",
          "data": {
            "image/png": "[encoded data removed]",
            "text/plain": [
              "<Figure size 432x288 with 1 Axes>"
            ]
          },
          "metadata": {
            "tags": []
          }
        },
        {
          "output_type": "display_data",
          "data": {
            "text/plain": [
              "<Figure size 720x504 with 0 Axes>"
            ]
          },
          "metadata": {
            "tags": []
          }
        }
      ]
    },
    {
      "cell_type": "markdown",
      "metadata": {
        "id": "tYV6x1VMwOL9"
      },
      "source": [
        "# Análise exploratória por compra antecipada"
      ]
    },
    {
      "cell_type": "code",
      "metadata": {
        "colab": {
          "base_uri": "https://localhost:8080/"
        },
        "id": "m5SFQiLxvQmv",
        "outputId": "45ab0ba4-bd37-4161-9338-78834e6817e4"
      },
      "source": [
        "antecipada = analytics['Prior_purchases'].value_counts()\n",
        "antecipada"
      ],
      "execution_count": null,
      "outputs": [
        {
          "output_type": "execute_result",
          "data": {
            "text/plain": [
              "3     3955\n",
              "2     2599\n",
              "4     2155\n",
              "5     1287\n",
              "6      561\n",
              "10     178\n",
              "7      136\n",
              "8      128\n",
              "Name: Prior_purchases, dtype: int64"
            ]
          },
          "metadata": {
            "tags": []
          },
          "execution_count": 71
        }
      ]
    },
    {
      "cell_type": "markdown",
      "metadata": {
        "id": "hN5dqYy7wwss"
      },
      "source": [
        "É possível ver que o consumidor médio faz 3 compras antecipadas"
      ]
    },
    {
      "cell_type": "code",
      "metadata": {
        "colab": {
          "base_uri": "https://localhost:8080/"
        },
        "id": "4KU0b8F7wu6M",
        "outputId": "22e87736-7d97-4ad1-fdff-655cec6b5094"
      },
      "source": [
        "sns.barplot(x=antecipada.index, y=antecipada.values, alpha=0.8)\n",
        "plt.title('Compras antecipadas por consumidor', fontsize=18, pad=10)\n",
        "plt.ylabel('Compradores', fontsize=14)\n",
        "plt.xlabel('Compras', fontsize=14)\n",
        "plt.xticks(fontsize=14)\n",
        "plt.yticks(fontsize=10)\n",
        "plt.figure(figsize=(10, 7))\n",
        "plt.show()"
      ],
      "execution_count": null,
      "outputs": [
        {
          "output_type": "display_data",
          "data": {
            "image/png": "[encoded data removed]",
            "text/plain": [
              "<Figure size 432x288 with 1 Axes>"
            ]
          },
          "metadata": {
            "tags": []
          }
        },
        {
          "output_type": "display_data",
          "data": {
            "text/plain": [
              "<Figure size 720x504 with 0 Axes>"
            ]
          },
          "metadata": {
            "tags": []
          }
        }
      ]
    },
    {
      "cell_type": "markdown",
      "metadata": {
        "id": "nXdxXa5bxZTb"
      },
      "source": [
        "# Análise exploratória por importância do produto"
      ]
    },
    {
      "cell_type": "code",
      "metadata": {
        "colab": {
          "base_uri": "https://localhost:8080/"
        },
        "id": "HhBzzEEZxeTk",
        "outputId": "3ba5b074-9edc-4ce2-bfba-d1c3a412ecb0"
      },
      "source": [
        "importancia = analytics['Product_importance'].value_counts()\n",
        "importancia"
      ],
      "execution_count": null,
      "outputs": [
        {
          "output_type": "execute_result",
          "data": {
            "text/plain": [
              "low       5297\n",
              "medium    4754\n",
              "high       948\n",
              "Name: Product_importance, dtype: int64"
            ]
          },
          "metadata": {
            "tags": []
          },
          "execution_count": 73
        }
      ]
    },
    {
      "cell_type": "code",
      "metadata": {
        "colab": {
          "base_uri": "https://localhost:8080/"
        },
        "id": "c5-DDU1-yEBL",
        "outputId": "844a726f-6c60-49f1-9701-6de4635ecc0c"
      },
      "source": [
        "plt.figure(figsize=(8, 5))\n",
        "sns.barplot(x=importancia.index, y=importancia.values, alpha=0.8)\n",
        "plt.title('Product importance categories', fontsize=14, pad=10)\n",
        "plt.ylabel('Number of products', fontsize=14)\n",
        "plt.xlabel('Category of importance', fontsize=14)\n",
        "plt.xticks(fontsize=14, rotation=30)\n",
        "plt.yticks(fontsize=10)\n",
        "plt.show()"
      ],
      "execution_count": null,
      "outputs": [
        {
          "output_type": "display_data",
          "data": {
            "image/png": "[encoded data removed]",
            "text/plain": [
              "<Figure size 576x360 with 1 Axes>"
            ]
          },
          "metadata": {
            "tags": []
          }
        }
      ]
    },
    {
      "cell_type": "markdown",
      "metadata": {
        "id": "FNySo0CA0dW8"
      },
      "source": [
        "# Análise exploratória por custo do produto"
      ]
    },
    {
      "cell_type": "code",
      "metadata": {
        "colab": {
          "base_uri": "https://localhost:8080/"
        },
        "id": "g-GwRPQP0cvr",
        "outputId": "b488b420-e97a-47b0-d119-8b178f412889"
      },
      "source": [
        "# Diferente dos outros atributos o custo é um atributo contínuo\n",
        "custo = analytics['Cost_of_the_Product']\n",
        "plt.figure(figsize=(10, 7))\n",
        "sns.distplot(custo)\n",
        "plt.title('Distribuição dos custo', fontsize=14)\n",
        "plt.xlabel('Custo', fontsize=12)\n",
        "plt.ylabel('Densidade de probabilidade', fontsize = 12)\n",
        "plt.show()"
      ],
      "execution_count": null,
      "outputs": [
        {
          "output_type": "stream",
          "text": [
            "/usr/local/lib/python3.7/dist-packages/seaborn/distributions.py:2557: FutureWarning: `distplot` is a deprecated function and will be removed in a future version. Please adapt your code to use either `displot` (a figure-level function with similar flexibility) or `histplot` (an axes-level function for histograms).\n",
            "  warnings.warn(msg, FutureWarning)\n"
          ],
          "name": "stderr"
        },
        {
          "output_type": "display_data",
          "data": {
            "image/png": "[encoded data removed]",
            "text/plain": [
              "<Figure size 720x504 with 1 Axes>"
            ]
          },
          "metadata": {
            "tags": []
          }
        }
      ]
    },
    {
      "cell_type": "markdown",
      "metadata": {
        "id": "ADWbgr0w1t55"
      },
      "source": [
        "# Análise de correlação da avaliação com outros atributos"
      ]
    },
    {
      "cell_type": "code",
      "metadata": {
        "id": "cWpd6gUe1zTY"
      },
      "source": [
        "# vamos começar com o seguinte processamento:\n",
        "# vamos construir a lista colunas que contém somente os atributos que são objetos\n",
        "colunas = list(analytics.dtypes[analytics.dtypes==object].index)"
      ],
      "execution_count": null,
      "outputs": []
    },
    {
      "cell_type": "code",
      "metadata": {
        "colab": {
          "base_uri": "https://localhost:8080/"
        },
        "id": "5h8sqlfDcqe6",
        "outputId": "4da9ae82-b55f-492e-fcbe-f43cb8577eae"
      },
      "source": [
        "\n",
        "list(analytics.dtypes[analytics.dtypes==object].index)"
      ],
      "execution_count": null,
      "outputs": [
        {
          "output_type": "execute_result",
          "data": {
            "text/plain": [
              "['Warehouse_block', 'Mode_of_Shipment', 'Product_importance', 'Gender']"
            ]
          },
          "metadata": {
            "tags": []
          },
          "execution_count": 9
        }
      ]
    },
    {
      "cell_type": "code",
      "metadata": {
        "id": "Kw6zg7fr3RD_"
      },
      "source": [
        "# agora, vamos converter o tipo de dados de objeto para categoria\n",
        "for col in colunas:\n",
        "    analytics[col] = analytics[col].astype('category')"
      ],
      "execution_count": null,
      "outputs": []
    },
    {
      "cell_type": "code",
      "metadata": {
        "id": "TXpnRAI85HLY"
      },
      "source": [
        "# vamos agora selecionar somente os atributos do tipo categoria\n",
        "colunas_cat = analytics.select_dtypes(['category']).columns"
      ],
      "execution_count": null,
      "outputs": []
    },
    {
      "cell_type": "code",
      "metadata": {
        "id": "76Ph08IC6Tk4"
      },
      "source": [
        "# vamos codificar os atributos do tipo categoria\n",
        "analytics[colunas_cat] = analytics[colunas_cat].apply(lambda x: x.cat.codes)"
      ],
      "execution_count": null,
      "outputs": []
    },
    {
      "cell_type": "code",
      "metadata": {
        "colab": {
          "base_uri": "https://localhost:8080/",
          "height": 226
        },
        "id": "g8F80zXC6ieG",
        "outputId": "1e074ac2-e242-4d38-e9ad-4a3c47b4ce87"
      },
      "source": [
        "# vamos visualizar o que a codificação de atributos categóricos faz com os atributos\n",
        "analytics.head()"
      ],
      "execution_count": null,
      "outputs": [
        {
          "output_type": "execute_result",
          "data": {
            "text/html": [
              "<div>\n",
              "<style scoped>\n",
              "    .dataframe tbody tr th:only-of-type {\n",
              "        vertical-align: middle;\n",
              "    }\n",
              "\n",
              "    .dataframe tbody tr th {\n",
              "        vertical-align: top;\n",
              "    }\n",
              "\n",
              "    .dataframe thead th {\n",
              "        text-align: right;\n",
              "    }\n",
              "</style>\n",
              "<table border=\"1\" class=\"dataframe\">\n",
              "  <thead>\n",
              "    <tr style=\"text-align: right;\">\n",
              "      <th></th>\n",
              "      <th>ID</th>\n",
              "      <th>Warehouse_block</th>\n",
              "      <th>Mode_of_Shipment</th>\n",
              "      <th>Customer_care_calls</th>\n",
              "      <th>Customer_rating</th>\n",
              "      <th>Cost_of_the_Product</th>\n",
              "      <th>Prior_purchases</th>\n",
              "      <th>Product_importance</th>\n",
              "      <th>Gender</th>\n",
              "      <th>Discount_offered</th>\n",
              "      <th>Weight_in_gms</th>\n",
              "      <th>Reached.on.Time_Y.N</th>\n",
              "    </tr>\n",
              "  </thead>\n",
              "  <tbody>\n",
              "    <tr>\n",
              "      <th>0</th>\n",
              "      <td>1</td>\n",
              "      <td>3</td>\n",
              "      <td>0</td>\n",
              "      <td>4</td>\n",
              "      <td>2</td>\n",
              "      <td>177</td>\n",
              "      <td>3</td>\n",
              "      <td>1</td>\n",
              "      <td>0</td>\n",
              "      <td>44</td>\n",
              "      <td>1233</td>\n",
              "      <td>1</td>\n",
              "    </tr>\n",
              "    <tr>\n",
              "      <th>1</th>\n",
              "      <td>2</td>\n",
              "      <td>4</td>\n",
              "      <td>0</td>\n",
              "      <td>4</td>\n",
              "      <td>5</td>\n",
              "      <td>216</td>\n",
              "      <td>2</td>\n",
              "      <td>1</td>\n",
              "      <td>1</td>\n",
              "      <td>59</td>\n",
              "      <td>3088</td>\n",
              "      <td>1</td>\n",
              "    </tr>\n",
              "    <tr>\n",
              "      <th>2</th>\n",
              "      <td>3</td>\n",
              "      <td>0</td>\n",
              "      <td>0</td>\n",
              "      <td>2</td>\n",
              "      <td>2</td>\n",
              "      <td>183</td>\n",
              "      <td>4</td>\n",
              "      <td>1</td>\n",
              "      <td>1</td>\n",
              "      <td>48</td>\n",
              "      <td>3374</td>\n",
              "      <td>1</td>\n",
              "    </tr>\n",
              "    <tr>\n",
              "      <th>3</th>\n",
              "      <td>4</td>\n",
              "      <td>1</td>\n",
              "      <td>0</td>\n",
              "      <td>3</td>\n",
              "      <td>3</td>\n",
              "      <td>176</td>\n",
              "      <td>4</td>\n",
              "      <td>2</td>\n",
              "      <td>1</td>\n",
              "      <td>10</td>\n",
              "      <td>1177</td>\n",
              "      <td>1</td>\n",
              "    </tr>\n",
              "    <tr>\n",
              "      <th>4</th>\n",
              "      <td>5</td>\n",
              "      <td>2</td>\n",
              "      <td>0</td>\n",
              "      <td>2</td>\n",
              "      <td>2</td>\n",
              "      <td>184</td>\n",
              "      <td>3</td>\n",
              "      <td>2</td>\n",
              "      <td>0</td>\n",
              "      <td>46</td>\n",
              "      <td>2484</td>\n",
              "      <td>1</td>\n",
              "    </tr>\n",
              "  </tbody>\n",
              "</table>\n",
              "</div>"
            ],
            "text/plain": [
              "   ID  Warehouse_block  ...  Weight_in_gms  Reached.on.Time_Y.N\n",
              "0   1                3  ...           1233                    1\n",
              "1   2                4  ...           3088                    1\n",
              "2   3                0  ...           3374                    1\n",
              "3   4                1  ...           1177                    1\n",
              "4   5                2  ...           2484                    1\n",
              "\n",
              "[5 rows x 12 columns]"
            ]
          },
          "metadata": {
            "tags": []
          },
          "execution_count": 13
        }
      ]
    },
    {
      "cell_type": "code",
      "metadata": {
        "id": "3FzMFCMs69pB"
      },
      "source": [
        "# vamos agora criar uma lista de todas as colunas que são atributos (sem ID)\n",
        "atributos=['Warehouse_block', 'Mode_of_Shipment', 'Customer_care_calls',\n",
        "          'Cost_of_the_Product', 'Prior_purchases','Product_importance', \n",
        "          'Gender','Reached.on.Time_Y.N']"
      ],
      "execution_count": null,
      "outputs": []
    },
    {
      "cell_type": "code",
      "metadata": {
        "colab": {
          "base_uri": "https://localhost:8080/",
          "height": 300
        },
        "id": "KvTDX0RL7Xm0",
        "outputId": "a9ca878b-9c7e-4700-c259-f121a3da1dec"
      },
      "source": [
        "# vamos calcular todas as correlações entre a variável que indica as avaliações e os outros atributos\n",
        "# já vamos aproveitar e criar um dataframe que associe a cada atributo sua corelação com avaliações\n",
        "df_corr = pd.DataFrame(columns=['Atributo', 'Correlacao'])\n",
        "for col in atributos:\n",
        "    correlacao = analytics['Customer_rating'].corr(analytics[col])\n",
        "    df_corr = df_corr.append({'Atributo': col, 'Correlacao': correlacao}, ignore_index=True)\n",
        "df_corr"
      ],
      "execution_count": null,
      "outputs": [
        {
          "output_type": "execute_result",
          "data": {
            "text/html": [
              "<div>\n",
              "<style scoped>\n",
              "    .dataframe tbody tr th:only-of-type {\n",
              "        vertical-align: middle;\n",
              "    }\n",
              "\n",
              "    .dataframe tbody tr th {\n",
              "        vertical-align: top;\n",
              "    }\n",
              "\n",
              "    .dataframe thead th {\n",
              "        text-align: right;\n",
              "    }\n",
              "</style>\n",
              "<table border=\"1\" class=\"dataframe\">\n",
              "  <thead>\n",
              "    <tr style=\"text-align: right;\">\n",
              "      <th></th>\n",
              "      <th>Atributo</th>\n",
              "      <th>Correlacao</th>\n",
              "    </tr>\n",
              "  </thead>\n",
              "  <tbody>\n",
              "    <tr>\n",
              "      <th>0</th>\n",
              "      <td>Warehouse_block</td>\n",
              "      <td>0.010169</td>\n",
              "    </tr>\n",
              "    <tr>\n",
              "      <th>1</th>\n",
              "      <td>Mode_of_Shipment</td>\n",
              "      <td>0.001679</td>\n",
              "    </tr>\n",
              "    <tr>\n",
              "      <th>2</th>\n",
              "      <td>Customer_care_calls</td>\n",
              "      <td>0.012209</td>\n",
              "    </tr>\n",
              "    <tr>\n",
              "      <th>3</th>\n",
              "      <td>Cost_of_the_Product</td>\n",
              "      <td>0.009270</td>\n",
              "    </tr>\n",
              "    <tr>\n",
              "      <th>4</th>\n",
              "      <td>Prior_purchases</td>\n",
              "      <td>0.013179</td>\n",
              "    </tr>\n",
              "    <tr>\n",
              "      <th>5</th>\n",
              "      <td>Product_importance</td>\n",
              "      <td>0.003157</td>\n",
              "    </tr>\n",
              "    <tr>\n",
              "      <th>6</th>\n",
              "      <td>Gender</td>\n",
              "      <td>0.002775</td>\n",
              "    </tr>\n",
              "    <tr>\n",
              "      <th>7</th>\n",
              "      <td>Reached.on.Time_Y.N</td>\n",
              "      <td>0.013119</td>\n",
              "    </tr>\n",
              "  </tbody>\n",
              "</table>\n",
              "</div>"
            ],
            "text/plain": [
              "              Atributo  Correlacao\n",
              "0      Warehouse_block    0.010169\n",
              "1     Mode_of_Shipment    0.001679\n",
              "2  Customer_care_calls    0.012209\n",
              "3  Cost_of_the_Product    0.009270\n",
              "4      Prior_purchases    0.013179\n",
              "5   Product_importance    0.003157\n",
              "6               Gender    0.002775\n",
              "7  Reached.on.Time_Y.N    0.013119"
            ]
          },
          "metadata": {
            "tags": []
          },
          "execution_count": 15
        }
      ]
    },
    {
      "cell_type": "code",
      "metadata": {
        "colab": {
          "base_uri": "https://localhost:8080/",
          "height": 590
        },
        "id": "wU4FAjux71M8",
        "outputId": "21d4d1c8-83ee-4da7-8853-f81469b01bb0"
      },
      "source": [
        "# agora vamos plotar as correlações com o atributo avalição\n",
        "df_corr.plot(x = 'Atributo', y = 'Correlacao', kind = 'line',\n",
        "             color = 'coral', figsize=(16,4), title = 'Correlação com avaliação dos clientes',\n",
        "             linewidth = 3.3, marker = '.', markersize = 20)\n",
        "plt.xlabel('Atributos')\n",
        "plt.ylabel('Correlação com avaliações')\n",
        "plt.xticks(ticks = df_corr.index, labels = df_corr['Atributo'])"
      ],
      "execution_count": null,
      "outputs": [
        {
          "output_type": "execute_result",
          "data": {
            "text/plain": [
              "([<matplotlib.axis.XTick at 0x7f312230e910>,\n",
              "  <matplotlib.axis.XTick at 0x7f312230ed50>,\n",
              "  <matplotlib.axis.XTick at 0x7f31228a54d0>,\n",
              "  <matplotlib.axis.XTick at 0x7f31222d1990>,\n",
              "  <matplotlib.axis.XTick at 0x7f31222d1b50>,\n",
              "  <matplotlib.axis.XTick at 0x7f31222db310>,\n",
              "  <matplotlib.axis.XTick at 0x7f31222db810>,\n",
              "  <matplotlib.axis.XTick at 0x7f31222db6d0>],\n",
              " [Text(0, 0, 'Warehouse_block'),\n",
              "  Text(0, 0, 'Mode_of_Shipment'),\n",
              "  Text(0, 0, 'Customer_care_calls'),\n",
              "  Text(0, 0, 'Cost_of_the_Product'),\n",
              "  Text(0, 0, 'Prior_purchases'),\n",
              "  Text(0, 0, 'Product_importance'),\n",
              "  Text(0, 0, 'Gender'),\n",
              "  Text(0, 0, 'Reached.on.Time_Y.N')])"
            ]
          },
          "metadata": {
            "tags": []
          },
          "execution_count": 17
        },
        {
          "output_type": "display_data",
          "data": {
            "image/png": "[encoded data removed]",
            "text/plain": [
              "<Figure size 1152x288 with 1 Axes>"
            ]
          },
          "metadata": {
            "tags": [],
            "needs_background": "light"
          }
        }
      ]
    }
  ]
}